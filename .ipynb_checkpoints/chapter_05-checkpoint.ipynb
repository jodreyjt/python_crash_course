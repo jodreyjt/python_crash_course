{
 "cells": [
  {
   "cell_type": "markdown",
   "metadata": {},
   "source": [
    "# Chapter 05: If Statements"
   ]
  },
  {
   "cell_type": "markdown",
   "metadata": {},
   "source": [
    "***"
   ]
  },
  {
   "cell_type": "markdown",
   "metadata": {},
   "source": [
    "## A simple example"
   ]
  },
  {
   "cell_type": "code",
   "execution_count": 2,
   "metadata": {},
   "outputs": [
    {
     "name": "stdout",
     "output_type": "stream",
     "text": [
      "chevy\n",
      "Hey it's a fucking BMW!\n",
      "subaru\n",
      "kia\n",
      "toyota\n"
     ]
    }
   ],
   "source": [
    "cars = ['chevy', 'bmw', 'subaru', 'kia', 'toyota']\n",
    "\n",
    "for car in cars:\n",
    "    if car == 'bmw':\n",
    "        print(f\"Hey it's a fucking {car.upper()}!\")\n",
    "    else:\n",
    "        print(car.lower())"
   ]
  },
  {
   "cell_type": "markdown",
   "metadata": {},
   "source": [
    "## Conditional tests"
   ]
  },
  {
   "cell_type": "markdown",
   "metadata": {},
   "source": [
    "### Checking for equality"
   ]
  },
  {
   "cell_type": "code",
   "execution_count": 3,
   "metadata": {},
   "outputs": [
    {
     "data": {
      "text/plain": [
       "True"
      ]
     },
     "execution_count": 3,
     "metadata": {},
     "output_type": "execute_result"
    }
   ],
   "source": [
    "car = 'bmw'\n",
    "car == 'bmw'"
   ]
  },
  {
   "cell_type": "markdown",
   "metadata": {},
   "source": [
    "### How to ignore case when checking for equality\n",
    "The `lower()` method doesn't change the value originally assigned to car in this case."
   ]
  },
  {
   "cell_type": "code",
   "execution_count": 6,
   "metadata": {},
   "outputs": [
    {
     "name": "stdout",
     "output_type": "stream",
     "text": [
      "True\n",
      "BmW\n"
     ]
    }
   ],
   "source": [
    "stupid_car = 'BmW'\n",
    "print(car.lower() == 'bmw')\n",
    "print(stupid_car)"
   ]
  },
  {
   "cell_type": "markdown",
   "metadata": {},
   "source": [
    "### Checking for inequality"
   ]
  },
  {
   "cell_type": "code",
   "execution_count": 8,
   "metadata": {},
   "outputs": [
    {
     "name": "stdout",
     "output_type": "stream",
     "text": [
      "This example sucks\n"
     ]
    }
   ],
   "source": [
    "dumb_person = 'Pence'\n",
    "\n",
    "if dumb_person != 'Trump':\n",
    "    print(\"This example sucks\")"
   ]
  },
  {
   "cell_type": "markdown",
   "metadata": {},
   "source": [
    "### Numerical comparisons"
   ]
  },
  {
   "cell_type": "code",
   "execution_count": 9,
   "metadata": {},
   "outputs": [
    {
     "name": "stdout",
     "output_type": "stream",
     "text": [
      "probably not dead yet\n"
     ]
    }
   ],
   "source": [
    "age = 87\n",
    "\n",
    "if age < 90:\n",
    "    print(\"probably not dead yet\")"
   ]
  },
  {
   "cell_type": "markdown",
   "metadata": {},
   "source": [
    "### Checking multiple conditions"
   ]
  },
  {
   "cell_type": "code",
   "execution_count": 10,
   "metadata": {},
   "outputs": [
    {
     "name": "stdout",
     "output_type": "stream",
     "text": [
      "hey girl that's a difference\n"
     ]
    }
   ],
   "source": [
    "age_0 = 40\n",
    "age_1 = 27\n",
    "\n",
    "if(age_0 > 30 and age_1 > 30):\n",
    "    print('old couple')\n",
    "else:\n",
    "    print(\"hey girl that's a difference\")"
   ]
  },
  {
   "cell_type": "markdown",
   "metadata": {},
   "source": [
    "### Checking if a value is in a list"
   ]
  },
  {
   "cell_type": "code",
   "execution_count": 11,
   "metadata": {},
   "outputs": [
    {
     "data": {
      "text/plain": [
       "False"
      ]
     },
     "execution_count": 11,
     "metadata": {},
     "output_type": "execute_result"
    }
   ],
   "source": [
    "requested_toppings = ['banana peppers', 'sausage', 'spinach', 'chicken']\n",
    "extra_topping = 'pepperoni'\n",
    "\n",
    "extra_topping in requested_toppings"
   ]
  },
  {
   "cell_type": "markdown",
   "metadata": {},
   "source": [
    "### Checking if a value is NOT in a list"
   ]
  },
  {
   "cell_type": "code",
   "execution_count": 12,
   "metadata": {},
   "outputs": [
    {
     "name": "stdout",
     "output_type": "stream",
     "text": [
      "That'll cost ye extree\n"
     ]
    }
   ],
   "source": [
    "requested_toppings = ['banana peppers', 'sausage', 'spinach', 'chicken']\n",
    "extra_topping = 'pepperoni'\n",
    "\n",
    "if extra_topping not in requested_toppings:\n",
    "    print(\"That'll cost ye extree\")"
   ]
  },
  {
   "cell_type": "markdown",
   "metadata": {},
   "source": [
    "### Checking that a list is not empty"
   ]
  },
  {
   "cell_type": "code",
   "execution_count": 13,
   "metadata": {},
   "outputs": [
    {
     "name": "stdout",
     "output_type": "stream",
     "text": [
      "Are you sure you want a plain cheese pizza?\n"
     ]
    }
   ],
   "source": [
    "requested_toppings = []\n",
    "\n",
    "if requested_toppings:\n",
    "    for requested_topping in requested_toppings:\n",
    "        print(f\"Adding {requested_topping}.\")\n",
    "    print(\"Finished your goddamn pizza can I finally go on break?\")\n",
    "else:\n",
    "    print(\"Are you sure you want a plain cheese pizza?\")"
   ]
  },
  {
   "cell_type": "markdown",
   "metadata": {},
   "source": [
    "## Using multiple lists in if-elif-else statements"
   ]
  },
  {
   "cell_type": "code",
   "execution_count": 20,
   "metadata": {},
   "outputs": [
    {
     "name": "stdout",
     "output_type": "stream",
     "text": [
      "We ain't fuckin got anchovy.\n",
      "Adding saus.\n",
      "Adding tom.\n",
      "We ain't fuckin got gp.\n",
      "We ain't fuckin got chz.\n",
      "\n",
      "***Your pizza is finished.***\n"
     ]
    }
   ],
   "source": [
    "available_toppings = ['pep', 'bp', 'saus', 'tom', 'grenov', 'blkov', 'heam']\n",
    "requested_toppings = ['anchovy', 'saus', 'tom', 'gp', 'chz']\n",
    "\n",
    "for requested_topping in requested_toppings:\n",
    "    if requested_topping in available_toppings:\n",
    "        print(f\"Adding {requested_topping}.\")\n",
    "    else:\n",
    "        print(f\"We ain't fuckin got {requested_topping}.\")\n",
    "print(\"\\n***Your pizza is finished.***\")"
   ]
  },
  {
   "cell_type": "code",
   "execution_count": null,
   "metadata": {},
   "outputs": [],
   "source": []
  }
 ],
 "metadata": {
  "kernelspec": {
   "display_name": "Python 3",
   "language": "python",
   "name": "python3"
  },
  "language_info": {
   "codemirror_mode": {
    "name": "ipython",
    "version": 3
   },
   "file_extension": ".py",
   "mimetype": "text/x-python",
   "name": "python",
   "nbconvert_exporter": "python",
   "pygments_lexer": "ipython3",
   "version": "3.8.5"
  }
 },
 "nbformat": 4,
 "nbformat_minor": 2
}
