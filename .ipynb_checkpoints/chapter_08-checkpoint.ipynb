{
 "cells": [
  {
   "cell_type": "markdown",
   "metadata": {},
   "source": [
    "# Chapter 08: Functions"
   ]
  },
  {
   "cell_type": "markdown",
   "metadata": {},
   "source": [
    "***"
   ]
  },
  {
   "cell_type": "markdown",
   "metadata": {},
   "source": [
    "## Defining a function"
   ]
  },
  {
   "cell_type": "code",
   "execution_count": 1,
   "metadata": {},
   "outputs": [],
   "source": [
    "def greet_user():                      # use keyword def to define function\n",
    "    \"\"\"Display a simple greeting.\"\"\"   # docstring to describe function\n",
    "    print(\"Hello!\")"
   ]
  },
  {
   "cell_type": "code",
   "execution_count": 2,
   "metadata": {},
   "outputs": [
    {
     "name": "stdout",
     "output_type": "stream",
     "text": [
      "Hello!\n"
     ]
    }
   ],
   "source": [
    "greet_user()"
   ]
  },
  {
   "cell_type": "markdown",
   "metadata": {},
   "source": [
    "### Passing information to a function"
   ]
  },
  {
   "cell_type": "code",
   "execution_count": 6,
   "metadata": {},
   "outputs": [
    {
     "name": "stdout",
     "output_type": "stream",
     "text": [
      "Hello, Blake!\n",
      "Hello, Bengals!\n"
     ]
    }
   ],
   "source": [
    "# define function\n",
    "def greet_user(username):\n",
    "    \"\"\"Display a simple greeting.\"\"\"\n",
    "    print(f\"Hello, {username.title()}!\")\n",
    "\n",
    "# call functions\n",
    "greet_user('blaKE')\n",
    "greet_user('bengals')"
   ]
  },
  {
   "cell_type": "markdown",
   "metadata": {},
   "source": [
    "## Exercises"
   ]
  },
  {
   "cell_type": "code",
   "execution_count": 9,
   "metadata": {},
   "outputs": [
    {
     "name": "stdout",
     "output_type": "stream",
     "text": [
      "learning how to write functions\n"
     ]
    }
   ],
   "source": [
    "# 8.1\n",
    "def display_message():\n",
    "    print(\"learning how to write functions\")\n",
    "\n",
    "display_message()"
   ]
  },
  {
   "cell_type": "code",
   "execution_count": 11,
   "metadata": {},
   "outputs": [
    {
     "name": "stdout",
     "output_type": "stream",
     "text": [
      "One of my favorite books is 1984.\n"
     ]
    }
   ],
   "source": [
    "# 8.2\n",
    "def favorite_book(title):\n",
    "    print(f\"One of my favorite books is {title.title()}.\")\n",
    "\n",
    "favorite_book(\"1984\")"
   ]
  },
  {
   "cell_type": "markdown",
   "metadata": {},
   "source": [
    "## Passing Arguments"
   ]
  },
  {
   "cell_type": "markdown",
   "metadata": {},
   "source": [
    "### Positional arguments"
   ]
  },
  {
   "cell_type": "code",
   "execution_count": 14,
   "metadata": {},
   "outputs": [
    {
     "name": "stdout",
     "output_type": "stream",
     "text": [
      "\n",
      "I have a dog.\n",
      "My dog's name is Tyson.\n"
     ]
    }
   ],
   "source": [
    "def describe_pet(animal_type, pet_name):\n",
    "    \"\"\"Display information about a pet.\"\"\"\n",
    "    print(f\"\\nI have a {animal_type}.\")\n",
    "    print(f\"My {animal_type}'s name is {pet_name.title()}.\")\n",
    "\n",
    "# function call with positional arguments\n",
    "describe_pet('dog', 'tyson')"
   ]
  },
  {
   "cell_type": "markdown",
   "metadata": {},
   "source": [
    "### Keyword arguments"
   ]
  },
  {
   "cell_type": "code",
   "execution_count": 16,
   "metadata": {},
   "outputs": [
    {
     "name": "stdout",
     "output_type": "stream",
     "text": [
      "\n",
      "I have a dog.\n",
      "My dog's name is Tyson.\n"
     ]
    }
   ],
   "source": [
    "def describe_pet(animal_type, pet_name):\n",
    "    \"\"\"Display information about a pet.\"\"\"\n",
    "    print(f\"\\nI have a {animal_type}.\")\n",
    "    print(f\"My {animal_type}'s name is {pet_name.title()}.\")\n",
    "\n",
    "# function call with keyword arguments\n",
    "describe_pet(\n",
    "    pet_name = 'tyson',\n",
    "    animal_type = 'dog'\n",
    ")"
   ]
  },
  {
   "cell_type": "markdown",
   "metadata": {},
   "source": [
    "### Default values"
   ]
  },
  {
   "cell_type": "code",
   "execution_count": 20,
   "metadata": {},
   "outputs": [
    {
     "name": "stdout",
     "output_type": "stream",
     "text": [
      "\n",
      "I have a dog.\n",
      "My dog's name is Lassie.\n",
      "\n",
      "I have a dog.\n",
      "My dog's name is Lassie.\n",
      "\n",
      "I have a dog.\n",
      "My dog's name is Lassie.\n"
     ]
    }
   ],
   "source": [
    "# need pet_name argument first\n",
    "# if only call with pet_name but placed that argument second in the function call\n",
    "# then we'd assume the animal type was the called pet_name\n",
    "# with no pet_name to plug into the function\n",
    "\n",
    "def describe_pet(pet_name, animal_type = 'dog'):\n",
    "    \"\"\"Display information about a pet.\"\"\"\n",
    "    print(f\"\\nI have a {animal_type}.\")\n",
    "    print(f\"My {animal_type}'s name is {pet_name.title()}.\")\n",
    "\n",
    "# equivalent function calls\n",
    "describe_pet('lassie')\n",
    "describe_pet(pet_name = 'lassie')\n",
    "describe_pet('lassie', animal_type = 'dog')"
   ]
  },
  {
   "cell_type": "markdown",
   "metadata": {},
   "source": [
    "## Return values"
   ]
  },
  {
   "cell_type": "markdown",
   "metadata": {},
   "source": [
    "### Returning a simple value"
   ]
  },
  {
   "cell_type": "code",
   "execution_count": 21,
   "metadata": {},
   "outputs": [
    {
     "name": "stdout",
     "output_type": "stream",
     "text": [
      "Jimi Hendrix\n"
     ]
    }
   ],
   "source": [
    "def get_formatted_name(first_name, last_name):\n",
    "    \"\"\"Return a full name, neatly formatted\"\"\"\n",
    "    full_name = f\"{first_name} {last_name}\"\n",
    "    return full_name.title()\n",
    "\n",
    "musician = get_formatted_name('jimi', 'hendrix')\n",
    "print(musician)"
   ]
  },
  {
   "cell_type": "markdown",
   "metadata": {},
   "source": [
    "### Making an argument optional"
   ]
  },
  {
   "cell_type": "code",
   "execution_count": 28,
   "metadata": {},
   "outputs": [
    {
     "name": "stdout",
     "output_type": "stream",
     "text": [
      "Dane Cook\n",
      "Dane Sue Cook\n"
     ]
    }
   ],
   "source": [
    "# move middle_name to end\n",
    "# because it has a default value\n",
    "# and because if people only use first/last arguments\n",
    "# it won't fuck up the function call\n",
    "\n",
    "def get_formatted_name(first_name, last_name, middle_name = ''):\n",
    "    \"\"\"Return a full name, neatly formatted\"\"\"\n",
    "    if middle_name:\n",
    "        full_name = f\"{first_name} {middle_name} {last_name}\"\n",
    "    else:\n",
    "        full_name = f\"{first_name} {last_name}\"\n",
    "    return full_name.title()\n",
    "\n",
    "name = get_formatted_name('dane', 'cook')\n",
    "print(name)\n",
    "\n",
    "new_name = get_formatted_name('dane', 'cook', 'sue')\n",
    "print(new_name)"
   ]
  },
  {
   "cell_type": "markdown",
   "metadata": {},
   "source": [
    "### Returning a dictionary"
   ]
  },
  {
   "cell_type": "code",
   "execution_count": 29,
   "metadata": {},
   "outputs": [
    {
     "name": "stdout",
     "output_type": "stream",
     "text": [
      "{'first': 'lady', 'last': 'gaga'}\n"
     ]
    }
   ],
   "source": [
    "def build_person(first_name, last_name):\n",
    "    \"\"\"Return a dictionary of information about a person.\"\"\"\n",
    "    person = {'first': first_name, 'last': last_name}\n",
    "    return person\n",
    "\n",
    "musician = build_person('lady', 'gaga')\n",
    "print(musician)"
   ]
  },
  {
   "cell_type": "code",
   "execution_count": 32,
   "metadata": {},
   "outputs": [
    {
     "name": "stdout",
     "output_type": "stream",
     "text": [
      "{'first': 'barbara', 'last': 'streisand', 'age': 87}\n",
      "{'first': 'justin', 'last': 'bieber'}\n"
     ]
    }
   ],
   "source": [
    "def build_person(first_name, last_name, age = ''):\n",
    "    \"\"\"Return a dictionary of information about a person.\"\"\"\n",
    "    person = {'first': first_name, 'last': last_name}\n",
    "    if age:\n",
    "        person['age'] = age\n",
    "    return person\n",
    "\n",
    "musician = build_person('barbara', 'streisand', 87)\n",
    "print(musician)\n",
    "\n",
    "music = build_person('justin', 'bieber')\n",
    "print(music)"
   ]
  },
  {
   "cell_type": "markdown",
   "metadata": {},
   "source": [
    "### Using a function with a while loop"
   ]
  },
  {
   "cell_type": "code",
   "execution_count": 38,
   "metadata": {},
   "outputs": [
    {
     "name": "stdout",
     "output_type": "stream",
     "text": [
      "\n",
      "Please tell me your name!\n",
      "(enter 'q' at any time to quit)\n",
      "First name: q\n"
     ]
    }
   ],
   "source": [
    "# function to format first/last names\n",
    "def get_formatted_name(first_name, last_name):\n",
    "    \"\"\"Return a full name, fully formatted\"\"\"\n",
    "    full_name = f\"{first_name} {last_name}\"\n",
    "    return(full_name.title())\n",
    "\n",
    "# loop for greeting\n",
    "while True:\n",
    "    print(\"\\nPlease tell me your name!\")\n",
    "    print(\"(enter 'q' at any time to quit)\")\n",
    "    \n",
    "    f_name = input(\"First name: \")\n",
    "    if f_name == 'q':\n",
    "        break\n",
    "    \n",
    "    l_name = input(\"Last name: \")\n",
    "    if l_name == 'q':\n",
    "        break\n",
    "    \n",
    "    formatted_name = get_formatted_name(f_name, l_name)\n",
    "    print(f\"\\nHello, {formatted_name}!\")"
   ]
  },
  {
   "cell_type": "markdown",
   "metadata": {},
   "source": [
    "## Passing a list"
   ]
  },
  {
   "cell_type": "code",
   "execution_count": 39,
   "metadata": {},
   "outputs": [
    {
     "name": "stdout",
     "output_type": "stream",
     "text": [
      "Hi Joe!\n",
      "Hi Bob!\n",
      "Hi John!\n"
     ]
    }
   ],
   "source": [
    "def greet_users(names):\n",
    "    for name in names:\n",
    "        message = f\"Hi {name.title()}!\"\n",
    "        print(message)\n",
    "\n",
    "usernames = ['joe', 'bob', 'john']\n",
    "greet_users(usernames)"
   ]
  },
  {
   "cell_type": "markdown",
   "metadata": {},
   "source": [
    "### Modiying a list in a function"
   ]
  },
  {
   "cell_type": "code",
   "execution_count": 43,
   "metadata": {},
   "outputs": [
    {
     "name": "stdout",
     "output_type": "stream",
     "text": [
      "Printing model: dodecahedron.\n",
      "Printing model: robot pendant.\n",
      "Printing model: phone case.\n",
      "\n",
      "The following models have been printed:\n",
      "- dodecahedron\n",
      "- robot pendant\n",
      "- phone case\n"
     ]
    }
   ],
   "source": [
    "unprinted_designs = ['phone case', 'robot pendant', 'dodecahedron']\n",
    "completed_models = []\n",
    "\n",
    "while unprinted_designs:\n",
    "    current_design = unprinted_designs.pop()\n",
    "    print(f\"Printing model: {current_design}.\")\n",
    "    completed_models.append(current_design)\n",
    "\n",
    "print(\"\\nThe following models have been printed:\")\n",
    "for completed_model in completed_models:\n",
    "    print(f\"- {completed_model}\")"
   ]
  },
  {
   "cell_type": "markdown",
   "metadata": {},
   "source": [
    "Reorganize into two functions, one function per capability"
   ]
  },
  {
   "cell_type": "code",
   "execution_count": 44,
   "metadata": {},
   "outputs": [
    {
     "name": "stdout",
     "output_type": "stream",
     "text": [
      "Printing model: dodecahedron.\n",
      "Printing model: robot pendant.\n",
      "Printing model: phone case.\n",
      "\n",
      "The following models have been printed:\n",
      "- dodecahedron\n",
      "- robot pendant\n",
      "- phone case\n"
     ]
    }
   ],
   "source": [
    "def print_models(unprinted_designs, completed_models):\n",
    "    \"\"\"\n",
    "    Simulate printing each design, until none are left.\n",
    "    Move each design to completed_models after printing.\n",
    "    \"\"\"\n",
    "    while unprinted_designs:\n",
    "        current_design = unprinted_designs.pop()\n",
    "        print(f\"Printing model: {current_design}.\")\n",
    "        completed_models.append(current_design)\n",
    "\n",
    "def show_completed_models(completed_models):\n",
    "    \"\"\"\n",
    "    Show all the models that were printed.\n",
    "    \"\"\"\n",
    "    print(\"\\nThe following models have been printed:\")\n",
    "    for completed_model in completed_models:\n",
    "        print(f\"- {completed_model}\")\n",
    "\n",
    "unprinted_designs = ['phone case', 'robot pendant', 'dodecahedron']\n",
    "completed_models = []\n",
    "\n",
    "print_models(unprinted_designs, completed_models)\n",
    "show_completed_models(completed_models)"
   ]
  },
  {
   "cell_type": "markdown",
   "metadata": {},
   "source": [
    "### Preventing a function from modifying a list\n",
    "Copy using a slice `[:]`"
   ]
  },
  {
   "cell_type": "code",
   "execution_count": 45,
   "metadata": {},
   "outputs": [],
   "source": [
    "print_models(unprinted_designs[:], completed_models)"
   ]
  },
  {
   "cell_type": "code",
   "execution_count": 46,
   "metadata": {},
   "outputs": [
    {
     "name": "stdout",
     "output_type": "stream",
     "text": [
      "hey\n",
      "u up\n",
      "wassup\n"
     ]
    }
   ],
   "source": [
    "# 8.9 through 8.11\n",
    "\n",
    "texts = ['hey', 'u up', 'wassup']\n",
    "sent_messages = []\n",
    "\n",
    "def show_messages(text_messages):\n",
    "    copied_list = text_messages[:]\n",
    "    for text in text_messages:\n",
    "        print(text)\n",
    "\n",
    "show_messages(texts)"
   ]
  },
  {
   "cell_type": "markdown",
   "metadata": {},
   "source": [
    "## Passing an arbitrary number of arguments"
   ]
  },
  {
   "cell_type": "markdown",
   "metadata": {},
   "source": [
    "Use a `*` in front an argument"
   ]
  },
  {
   "cell_type": "code",
   "execution_count": 48,
   "metadata": {},
   "outputs": [
    {
     "name": "stdout",
     "output_type": "stream",
     "text": [
      "('pep',)\n",
      "('pep', 'saus')\n"
     ]
    }
   ],
   "source": [
    "def make_pizza(*toppings):\n",
    "    \"\"\"\n",
    "    Print the list of toppings that have been requested.\n",
    "    \"\"\"\n",
    "    print(toppings)\n",
    "\n",
    "make_pizza('pep')\n",
    "make_pizza('pep', 'saus')"
   ]
  },
  {
   "cell_type": "code",
   "execution_count": 49,
   "metadata": {},
   "outputs": [
    {
     "name": "stdout",
     "output_type": "stream",
     "text": [
      "Making a pizza with these toppings: \n",
      "- pep\n",
      "Making a pizza with these toppings: \n",
      "- pep\n",
      "- bp\n",
      "- saus\n"
     ]
    }
   ],
   "source": [
    "# replace print with a loop\n",
    "def make_pizza(*toppings):\n",
    "    \"\"\"\n",
    "    Summarize the pizza we're about to make.\n",
    "    \"\"\"\n",
    "    print(\"Making a pizza with these toppings: \")\n",
    "    for topping in toppings:\n",
    "        print(f\"- {topping}\")\n",
    "\n",
    "make_pizza('pep')\n",
    "make_pizza('pep', 'bp', 'saus')"
   ]
  },
  {
   "cell_type": "markdown",
   "metadata": {},
   "source": [
    "### Mixing positional and arbitrary arguments"
   ]
  },
  {
   "cell_type": "markdown",
   "metadata": {},
   "source": [
    "Parameter that accepts arbitrary number of arguments must be placed last in the function definition."
   ]
  },
  {
   "cell_type": "code",
   "execution_count": 50,
   "metadata": {},
   "outputs": [
    {
     "name": "stdout",
     "output_type": "stream",
     "text": [
      "Making a 15-size pizza with these toppings: \n",
      "- pep\n",
      "Making a 27-size pizza with these toppings: \n",
      "- pep\n",
      "- saus\n",
      "- spin\n"
     ]
    }
   ],
   "source": [
    "def make_pizza(size, *toppings):\n",
    "    \"\"\"Summarize the pizza we're about to make.\"\"\"\n",
    "    print(f\"Making a {size}-size pizza with these toppings: \")\n",
    "    for topping in toppings:\n",
    "        print(f\"- {topping}\")\n",
    "\n",
    "make_pizza(15, 'pep')\n",
    "make_pizza(27, 'pep', 'saus', 'spin')"
   ]
  },
  {
   "cell_type": "markdown",
   "metadata": {},
   "source": [
    "### Using arbitrary keyword arguments\n",
    "Use `**` which will cause Python to create an empty dictionary before the parameter user_info and pack whatever name-value pairs it receives into this dictionary.  \n",
    "This will accept key-value pairs."
   ]
  },
  {
   "cell_type": "code",
   "execution_count": 52,
   "metadata": {},
   "outputs": [
    {
     "name": "stdout",
     "output_type": "stream",
     "text": [
      "{'food': 'lemons', 'drug': 'water', 'first_name': 'justin', 'last_name': 'jodrey'}\n"
     ]
    }
   ],
   "source": [
    "def build_profile(first, last, **user_info):\n",
    "    user_info['first_name'] = first\n",
    "    user_info['last_name'] = last\n",
    "    return user_info\n",
    "\n",
    "user_profile = build_profile(\n",
    "    'justin',\n",
    "    'jodrey',\n",
    "    food = 'lemons',\n",
    "    drug = 'water'\n",
    ")\n",
    "print(user_profile)"
   ]
  },
  {
   "cell_type": "markdown",
   "metadata": {},
   "source": [
    "## Storing your functions in modules"
   ]
  },
  {
   "cell_type": "markdown",
   "metadata": {},
   "source": [
    "### Importing an entire module\n",
    "A module is a file ending in .py that contains code you want to import into your program."
   ]
  },
  {
   "cell_type": "code",
   "execution_count": 60,
   "metadata": {},
   "outputs": [
    {
     "name": "stdout",
     "output_type": "stream",
     "text": [
      "location: kentucky\n",
      "age: 57\n",
      "first_name: jane\n",
      "last_name: smith\n"
     ]
    }
   ],
   "source": [
    "# module_practice.py is in this working directory\n",
    "import module_practice as mp\n",
    "\n",
    "# function call\n",
    "module_practice_person = mp.module_make_profile(\n",
    "    'jane',\n",
    "    'smith',\n",
    "    location = 'kentucky',\n",
    "    age = 57\n",
    ")\n",
    "\n",
    "# print results from function call\n",
    "for key, value in module_practice_person.items():\n",
    "    print(f\"{key}: {value}\")"
   ]
  }
 ],
 "metadata": {
  "kernelspec": {
   "display_name": "Python 3",
   "language": "python",
   "name": "python3"
  },
  "language_info": {
   "codemirror_mode": {
    "name": "ipython",
    "version": 3
   },
   "file_extension": ".py",
   "mimetype": "text/x-python",
   "name": "python",
   "nbconvert_exporter": "python",
   "pygments_lexer": "ipython3",
   "version": "3.8.5"
  }
 },
 "nbformat": 4,
 "nbformat_minor": 4
}
