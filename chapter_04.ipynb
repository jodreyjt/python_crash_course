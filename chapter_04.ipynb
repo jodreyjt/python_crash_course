{
 "cells": [
  {
   "cell_type": "markdown",
   "metadata": {},
   "source": [
    "# Chapter 04: Working With Lists"
   ]
  },
  {
   "cell_type": "markdown",
   "metadata": {},
   "source": [
    "***"
   ]
  },
  {
   "cell_type": "markdown",
   "metadata": {},
   "source": [
    "## Looping through an entire list"
   ]
  },
  {
   "cell_type": "markdown",
   "metadata": {},
   "source": [
    "### First example of a for loop"
   ]
  },
  {
   "cell_type": "code",
   "execution_count": 1,
   "metadata": {},
   "outputs": [
    {
     "name": "stdout",
     "output_type": "stream",
     "text": [
      "keyshia\n",
      "megan\n",
      "cardi\n"
     ]
    }
   ],
   "source": [
    "# first look at a for loop acting on a list\n",
    "magicians = ['keyshia', 'megan', 'cardi']\n",
    "\n",
    "for magician in magicians:\n",
    "    print(magician)"
   ]
  },
  {
   "cell_type": "markdown",
   "metadata": {},
   "source": [
    "### Doing more inside a loop"
   ]
  },
  {
   "cell_type": "code",
   "execution_count": 3,
   "metadata": {},
   "outputs": [
    {
     "name": "stdout",
     "output_type": "stream",
     "text": [
      "DaBaby loves Keyshia.\n",
      "DaBaby loves Megan.\n",
      "DaBaby loves Cardi.\n"
     ]
    }
   ],
   "source": [
    "magicians = ['keyshia', 'megan', 'cardi']\n",
    "\n",
    "for magician in magicians:\n",
    "    print(f\"DaBaby loves {magician.title()}.\")"
   ]
  },
  {
   "cell_type": "code",
   "execution_count": 4,
   "metadata": {},
   "outputs": [
    {
     "name": "stdout",
     "output_type": "stream",
     "text": [
      "DaBaby loves Keyshia.\n",
      "Ok he done with Keyshia. On to the next ho.\n",
      "\n",
      "DaBaby loves Megan.\n",
      "Ok he done with Megan. On to the next ho.\n",
      "\n",
      "DaBaby loves Cardi.\n",
      "Ok he done with Cardi. On to the next ho.\n",
      "\n"
     ]
    }
   ],
   "source": [
    "magicians = ['keyshia', 'megan', 'cardi']\n",
    "\n",
    "for magician in magicians:\n",
    "    print(f\"DaBaby loves {magician.title()}.\")\n",
    "    print(f\"Ok he done with {magician.title()}. On to the next ho.\\n\")"
   ]
  },
  {
   "cell_type": "markdown",
   "metadata": {},
   "source": [
    "### Doing something after a for loop\n",
    "Watch the indentation inside and outside the loop."
   ]
  },
  {
   "cell_type": "code",
   "execution_count": 5,
   "metadata": {},
   "outputs": [
    {
     "name": "stdout",
     "output_type": "stream",
     "text": [
      "DaBaby loves Keyshia.\n",
      "Ok he done with Keyshia. On to the next ho.\n",
      "\n",
      "DaBaby loves Megan.\n",
      "Ok he done with Megan. On to the next ho.\n",
      "\n",
      "DaBaby loves Cardi.\n",
      "Ok he done with Cardi. On to the next ho.\n",
      "\n",
      "Bye bitches\n"
     ]
    }
   ],
   "source": [
    "magicians = ['keyshia', 'megan', 'cardi']\n",
    "\n",
    "for magician in magicians:\n",
    "    print(f\"DaBaby loves {magician.title()}.\")\n",
    "    print(f\"Ok he done with {magician.title()}. On to the next ho.\\n\")\n",
    "\n",
    "print(\"Bye bitches\")"
   ]
  },
  {
   "cell_type": "markdown",
   "metadata": {},
   "source": [
    "## Avoiding Indentation Errors"
   ]
  },
  {
   "cell_type": "markdown",
   "metadata": {},
   "source": [
    "### Forgetting to indent"
   ]
  },
  {
   "cell_type": "code",
   "execution_count": 6,
   "metadata": {},
   "outputs": [
    {
     "ename": "IndentationError",
     "evalue": "expected an indented block (<ipython-input-6-1887fad64bd2>, line 4)",
     "output_type": "error",
     "traceback": [
      "\u001b[1;36m  File \u001b[1;32m\"<ipython-input-6-1887fad64bd2>\"\u001b[1;36m, line \u001b[1;32m4\u001b[0m\n\u001b[1;33m    print(f\"DaBaby loves {magician.title()}.\")\u001b[0m\n\u001b[1;37m        ^\u001b[0m\n\u001b[1;31mIndentationError\u001b[0m\u001b[1;31m:\u001b[0m expected an indented block\n"
     ]
    }
   ],
   "source": [
    "magicians = ['keyshia', 'megan', 'cardi']\n",
    "\n",
    "for magician in magicians:\n",
    "print(f\"DaBaby loves {magician.title()}.\")"
   ]
  },
  {
   "cell_type": "markdown",
   "metadata": {},
   "source": [
    "### Forgetting to indent additional lines\n",
    "Code below is valid but doesn't achieve desired results: Need both lines printed in each iteration of the loop."
   ]
  },
  {
   "cell_type": "code",
   "execution_count": 8,
   "metadata": {},
   "outputs": [
    {
     "name": "stdout",
     "output_type": "stream",
     "text": [
      "DaBaby loves Keyshia.\n",
      "DaBaby loves Megan.\n",
      "DaBaby loves Cardi.\n",
      "Ok he done with Cardi. On to the next ho.\n",
      "\n"
     ]
    }
   ],
   "source": [
    "magicians = ['keyshia', 'megan', 'cardi']\n",
    "\n",
    "for magician in magicians:\n",
    "    print(f\"DaBaby loves {magician.title()}.\")\n",
    "print(f\"Ok he done with {magician.title()}. On to the next ho.\\n\")"
   ]
  },
  {
   "cell_type": "markdown",
   "metadata": {},
   "source": [
    "### Indenting unnecessarily"
   ]
  },
  {
   "cell_type": "code",
   "execution_count": 10,
   "metadata": {},
   "outputs": [
    {
     "ename": "IndentationError",
     "evalue": "unexpected indent (<ipython-input-10-f41e27f9a1ec>, line 3)",
     "output_type": "error",
     "traceback": [
      "\u001b[1;36m  File \u001b[1;32m\"<ipython-input-10-f41e27f9a1ec>\"\u001b[1;36m, line \u001b[1;32m3\u001b[0m\n\u001b[1;33m    print(message)\u001b[0m\n\u001b[1;37m    ^\u001b[0m\n\u001b[1;31mIndentationError\u001b[0m\u001b[1;31m:\u001b[0m unexpected indent\n"
     ]
    }
   ],
   "source": [
    "# don't indent because this isn't a loop\n",
    "message = \"Wassup\"\n",
    "    print(message)"
   ]
  },
  {
   "cell_type": "markdown",
   "metadata": {},
   "source": [
    "### Indenting unnecessarily after a loop\n",
    "Don't want the final line to print after every iteration, only the last one."
   ]
  },
  {
   "cell_type": "code",
   "execution_count": 13,
   "metadata": {},
   "outputs": [
    {
     "name": "stdout",
     "output_type": "stream",
     "text": [
      "DaBaby loves Keyshia.\n",
      "Ok he done with Keyshia. On to the next ho.\n",
      "\n",
      "Bye bitches\n",
      "DaBaby loves Megan.\n",
      "Ok he done with Megan. On to the next ho.\n",
      "\n",
      "Bye bitches\n",
      "DaBaby loves Cardi.\n",
      "Ok he done with Cardi. On to the next ho.\n",
      "\n",
      "Bye bitches\n"
     ]
    }
   ],
   "source": [
    "magicians = ['keyshia', 'megan', 'cardi']\n",
    "\n",
    "for magician in magicians:\n",
    "    print(f\"DaBaby loves {magician.title()}.\")\n",
    "    print(f\"Ok he done with {magician.title()}. On to the next ho.\\n\")\n",
    "\n",
    "    print(\"Bye bitches\")"
   ]
  },
  {
   "cell_type": "markdown",
   "metadata": {},
   "source": [
    "### Forgetting the colon"
   ]
  },
  {
   "cell_type": "code",
   "execution_count": 14,
   "metadata": {},
   "outputs": [
    {
     "ename": "SyntaxError",
     "evalue": "invalid syntax (<ipython-input-14-88ed26cb9f88>, line 3)",
     "output_type": "error",
     "traceback": [
      "\u001b[1;36m  File \u001b[1;32m\"<ipython-input-14-88ed26cb9f88>\"\u001b[1;36m, line \u001b[1;32m3\u001b[0m\n\u001b[1;33m    for magician in magicians\u001b[0m\n\u001b[1;37m                             ^\u001b[0m\n\u001b[1;31mSyntaxError\u001b[0m\u001b[1;31m:\u001b[0m invalid syntax\n"
     ]
    }
   ],
   "source": [
    "magicians = ['keyshia', 'megan', 'cardi']\n",
    "\n",
    "for magician in magicians\n",
    "    print(f\"DaBaby loves {magician.title()}.\")"
   ]
  },
  {
   "cell_type": "markdown",
   "metadata": {},
   "source": [
    "## Making Numerical Lists"
   ]
  },
  {
   "cell_type": "markdown",
   "metadata": {},
   "source": [
    "### Using the `range()` function"
   ]
  },
  {
   "cell_type": "markdown",
   "metadata": {},
   "source": [
    "#### the `range()` function prints integers starting at the first number and ending at (but not including) the second number"
   ]
  },
  {
   "cell_type": "code",
   "execution_count": 18,
   "metadata": {},
   "outputs": [
    {
     "name": "stdout",
     "output_type": "stream",
     "text": [
      "0\n",
      "1\n",
      "2\n",
      "3\n"
     ]
    }
   ],
   "source": [
    "for value in range(0, 4):\n",
    "    print(value)"
   ]
  },
  {
   "cell_type": "code",
   "execution_count": 21,
   "metadata": {},
   "outputs": [
    {
     "name": "stdout",
     "output_type": "stream",
     "text": [
      "8\n",
      "9\n",
      "10\n",
      "11\n",
      "12\n"
     ]
    }
   ],
   "source": [
    "for value in range(8, 13):\n",
    "    print(value)"
   ]
  },
  {
   "cell_type": "markdown",
   "metadata": {},
   "source": [
    "#### can also pass only one value to `range()` to return that amount of integers starting at 0"
   ]
  },
  {
   "cell_type": "code",
   "execution_count": 19,
   "metadata": {},
   "outputs": [
    {
     "name": "stdout",
     "output_type": "stream",
     "text": [
      "0\n",
      "1\n",
      "2\n",
      "3\n",
      "4\n",
      "5\n",
      "6\n"
     ]
    }
   ],
   "source": [
    "for value in range(7):\n",
    "    print(value)"
   ]
  },
  {
   "cell_type": "markdown",
   "metadata": {},
   "source": [
    "### Using `range()` to make a list of numbers"
   ]
  },
  {
   "cell_type": "code",
   "execution_count": 23,
   "metadata": {},
   "outputs": [
    {
     "name": "stdout",
     "output_type": "stream",
     "text": [
      "[0, 1, 2, 3, 4, 5, 6, 7, 8]\n"
     ]
    }
   ],
   "source": [
    "# use the list() function to convert the results of range() to a list of numbers\n",
    "numbers = list(range(9))\n",
    "print(numbers)"
   ]
  },
  {
   "cell_type": "code",
   "execution_count": 27,
   "metadata": {},
   "outputs": [
    {
     "name": "stdout",
     "output_type": "stream",
     "text": [
      "[2, 4, 6, 8, 10, 12, 14, 16, 18, 20]\n"
     ]
    }
   ],
   "source": [
    "# use third argument of range() to skip numbers in a given range\n",
    "even_numbers = list(range(2, 21, 2))\n",
    "print(even_numbers)"
   ]
  },
  {
   "cell_type": "markdown",
   "metadata": {},
   "source": [
    "#### make list of first 10 squares"
   ]
  },
  {
   "cell_type": "code",
   "execution_count": 29,
   "metadata": {},
   "outputs": [
    {
     "name": "stdout",
     "output_type": "stream",
     "text": [
      "[1, 4, 9, 16, 25, 36, 49, 64, 81, 100]\n"
     ]
    }
   ],
   "source": [
    "# initialize list\n",
    "squares = []\n",
    "\n",
    "# find square number and append to squares list\n",
    "for counting_number in range(1, 11):\n",
    "    square_number = counting_number ** 2\n",
    "    squares.append(square_number)\n",
    "    \n",
    "# print final list\n",
    "print(squares)"
   ]
  },
  {
   "cell_type": "code",
   "execution_count": 30,
   "metadata": {},
   "outputs": [
    {
     "name": "stdout",
     "output_type": "stream",
     "text": [
      "[1, 4, 9, 16, 25, 36, 49, 64, 81, 100]\n"
     ]
    }
   ],
   "source": [
    "# more concise version of previous exercise\n",
    "squares = []\n",
    "for counting_number in range(1, 11):\n",
    "    squares.append(counting_number ** 2)\n",
    "print(squares)"
   ]
  },
  {
   "cell_type": "markdown",
   "metadata": {},
   "source": [
    "### Simple statistics with a list of numbers"
   ]
  },
  {
   "cell_type": "code",
   "execution_count": 32,
   "metadata": {},
   "outputs": [],
   "source": [
    "digits = list(range(10))"
   ]
  },
  {
   "cell_type": "code",
   "execution_count": 33,
   "metadata": {},
   "outputs": [
    {
     "data": {
      "text/plain": [
       "0"
      ]
     },
     "execution_count": 33,
     "metadata": {},
     "output_type": "execute_result"
    }
   ],
   "source": [
    "min(digits)"
   ]
  },
  {
   "cell_type": "code",
   "execution_count": 34,
   "metadata": {},
   "outputs": [
    {
     "data": {
      "text/plain": [
       "9"
      ]
     },
     "execution_count": 34,
     "metadata": {},
     "output_type": "execute_result"
    }
   ],
   "source": [
    "max(digits)"
   ]
  },
  {
   "cell_type": "code",
   "execution_count": 35,
   "metadata": {},
   "outputs": [
    {
     "data": {
      "text/plain": [
       "45"
      ]
     },
     "execution_count": 35,
     "metadata": {},
     "output_type": "execute_result"
    }
   ],
   "source": [
    "sum(digits)"
   ]
  },
  {
   "cell_type": "markdown",
   "metadata": {},
   "source": [
    "### List comprehensions\n",
    "List comprehensions combine two crucial aspects of working with lists and accomplishes them in one concise line of code:\n",
    "1. Iterating through each element of a list (previous done with *for* loops)\n",
    "1. Creation of new elements"
   ]
  },
  {
   "cell_type": "code",
   "execution_count": 37,
   "metadata": {},
   "outputs": [
    {
     "name": "stdout",
     "output_type": "stream",
     "text": [
      "[1, 4, 9, 16, 25, 36, 49, 64, 81, 100]\n"
     ]
    }
   ],
   "source": [
    "# how a list comprehension works:\n",
    "# 0. give descriptive name for the new list (squares)\n",
    "# 1. define expression for values you want to store in the new list (counting_number ** 2)\n",
    "# 2. write a for loop to generate the numbers you want to feed into the expression\n",
    "squares = [counting_number ** 2 for counting_number in range(1,11)]\n",
    "print(squares)"
   ]
  },
  {
   "cell_type": "markdown",
   "metadata": {},
   "source": [
    "## Exercises"
   ]
  },
  {
   "cell_type": "code",
   "execution_count": 39,
   "metadata": {},
   "outputs": [
    {
     "name": "stdout",
     "output_type": "stream",
     "text": [
      "1\n",
      "2\n",
      "3\n",
      "4\n",
      "5\n",
      "6\n",
      "7\n",
      "8\n",
      "9\n",
      "10\n",
      "11\n",
      "12\n",
      "13\n",
      "14\n",
      "15\n",
      "16\n",
      "17\n",
      "18\n",
      "19\n",
      "20\n"
     ]
    }
   ],
   "source": [
    "# 4.3\n",
    "for value in range(1,21):\n",
    "    print(value)"
   ]
  },
  {
   "cell_type": "code",
   "execution_count": 41,
   "metadata": {},
   "outputs": [],
   "source": [
    "# 4.4 (don't actually run this -- it takes forever)\n",
    "# for value in range(1,1_000_001):\n",
    "    #print(value)"
   ]
  },
  {
   "cell_type": "code",
   "execution_count": 43,
   "metadata": {},
   "outputs": [
    {
     "name": "stdout",
     "output_type": "stream",
     "text": [
      "1\n",
      "1000000\n",
      "500000500000\n"
     ]
    }
   ],
   "source": [
    "# 4.5\n",
    "# list of numbers from 1 to 1,000,000\n",
    "million_numbers = list(range(1,1_000_001))\n",
    "print(min(million_numbers))\n",
    "print(max(million_numbers))\n",
    "print(sum(million_numbers))"
   ]
  },
  {
   "cell_type": "code",
   "execution_count": 44,
   "metadata": {},
   "outputs": [
    {
     "name": "stdout",
     "output_type": "stream",
     "text": [
      "1\n",
      "3\n",
      "5\n",
      "7\n",
      "9\n",
      "11\n",
      "13\n",
      "15\n",
      "17\n",
      "19\n"
     ]
    }
   ],
   "source": [
    "# 4.6\n",
    "for value in range(1,20,2):\n",
    "    print(value)"
   ]
  },
  {
   "cell_type": "code",
   "execution_count": 49,
   "metadata": {},
   "outputs": [
    {
     "name": "stdout",
     "output_type": "stream",
     "text": [
      "3\n",
      "6\n",
      "9\n",
      "12\n",
      "15\n",
      "18\n",
      "21\n",
      "24\n",
      "27\n",
      "30\n"
     ]
    }
   ],
   "source": [
    "# 4.7\n",
    "threes = list(range(3,31,3))\n",
    "for value in threes:\n",
    "    print(value)"
   ]
  },
  {
   "cell_type": "code",
   "execution_count": 50,
   "metadata": {},
   "outputs": [
    {
     "name": "stdout",
     "output_type": "stream",
     "text": [
      "[1, 8, 27, 64, 125, 216, 343, 512, 729, 1000]\n"
     ]
    }
   ],
   "source": [
    "# 4.8\n",
    "numbers = list(range(1,11))\n",
    "cubes = []\n",
    "for number in numbers:\n",
    "    cubes.append(number ** 3)\n",
    "print(cubes)"
   ]
  },
  {
   "cell_type": "code",
   "execution_count": 51,
   "metadata": {},
   "outputs": [
    {
     "name": "stdout",
     "output_type": "stream",
     "text": [
      "[1, 8, 27, 64, 125, 216, 343, 512, 729, 1000]\n"
     ]
    }
   ],
   "source": [
    "# 4.9\n",
    "cubes = [number ** 3 for number in range(1,11)]\n",
    "print(cubes)"
   ]
  },
  {
   "cell_type": "markdown",
   "metadata": {},
   "source": [
    "## Working with Part of a List"
   ]
  },
  {
   "cell_type": "markdown",
   "metadata": {},
   "source": [
    "### Slicing a list"
   ]
  },
  {
   "cell_type": "markdown",
   "metadata": {},
   "source": [
    "#### define starting and ending points"
   ]
  },
  {
   "cell_type": "code",
   "execution_count": 52,
   "metadata": {},
   "outputs": [
    {
     "name": "stdout",
     "output_type": "stream",
     "text": [
      "['susie', 'beverly', 'vontaze']\n"
     ]
    }
   ],
   "source": [
    "# first three elements of list\n",
    "players = ['susie', 'beverly', 'vontaze', 'charles', 'turtle']\n",
    "print(players[0:3])"
   ]
  },
  {
   "cell_type": "code",
   "execution_count": 53,
   "metadata": {},
   "outputs": [
    {
     "name": "stdout",
     "output_type": "stream",
     "text": [
      "['beverly', 'vontaze', 'charles']\n"
     ]
    }
   ],
   "source": [
    "print(players[1:4])"
   ]
  },
  {
   "cell_type": "markdown",
   "metadata": {},
   "source": [
    "#### omit starting index to start at beginning of list"
   ]
  },
  {
   "cell_type": "code",
   "execution_count": 54,
   "metadata": {},
   "outputs": [
    {
     "name": "stdout",
     "output_type": "stream",
     "text": [
      "['susie', 'beverly', 'vontaze', 'charles']\n"
     ]
    }
   ],
   "source": [
    "print(players[:4])"
   ]
  },
  {
   "cell_type": "markdown",
   "metadata": {},
   "source": [
    "#### omit ending index to include end of list"
   ]
  },
  {
   "cell_type": "code",
   "execution_count": 55,
   "metadata": {},
   "outputs": [
    {
     "name": "stdout",
     "output_type": "stream",
     "text": [
      "['charles', 'turtle']\n"
     ]
    }
   ],
   "source": [
    "print(players[3:])"
   ]
  },
  {
   "cell_type": "markdown",
   "metadata": {},
   "source": [
    "#### use negative index for starting index to include the final number of elements"
   ]
  },
  {
   "cell_type": "code",
   "execution_count": 56,
   "metadata": {},
   "outputs": [
    {
     "name": "stdout",
     "output_type": "stream",
     "text": [
      "['vontaze', 'charles', 'turtle']\n"
     ]
    }
   ],
   "source": [
    "print(players[-3:])"
   ]
  },
  {
   "cell_type": "markdown",
   "metadata": {},
   "source": [
    "### Looping through a slice"
   ]
  },
  {
   "cell_type": "code",
   "execution_count": 58,
   "metadata": {},
   "outputs": [
    {
     "name": "stdout",
     "output_type": "stream",
     "text": [
      "The first three players on the team:\n",
      "\n",
      "Susie\n",
      "Beverly\n",
      "Vontaze\n"
     ]
    }
   ],
   "source": [
    "players = ['susie', 'beverly', 'vontaze', 'charles', 'turtle']\n",
    "\n",
    "print(\"The first three players on the team:\\n\")\n",
    "for player in players[:3]:\n",
    "    print(player.title())"
   ]
  },
  {
   "cell_type": "markdown",
   "metadata": {},
   "source": [
    "### Copying a list"
   ]
  },
  {
   "cell_type": "markdown",
   "metadata": {},
   "source": [
    "#### use `[:]` to include the entire list"
   ]
  },
  {
   "cell_type": "code",
   "execution_count": 59,
   "metadata": {},
   "outputs": [
    {
     "name": "stdout",
     "output_type": "stream",
     "text": [
      "My favorite foods are: \n",
      "['falafel', 'hummus', 'cake']\n",
      "\n",
      "A poser's favorite foods are:\n",
      "['falafel', 'hummus', 'cake']\n"
     ]
    }
   ],
   "source": [
    "my_foods = ['falafel', 'hummus', 'cake']\n",
    "poser_foods = my_foods[:]\n",
    "\n",
    "print(\"My favorite foods are: \")\n",
    "print(my_foods)\n",
    "\n",
    "print(\"\\nA poser's favorite foods are:\")\n",
    "print(poser_foods)"
   ]
  },
  {
   "cell_type": "markdown",
   "metadata": {},
   "source": [
    "#### yes there are two different lists"
   ]
  },
  {
   "cell_type": "code",
   "execution_count": 60,
   "metadata": {},
   "outputs": [
    {
     "name": "stdout",
     "output_type": "stream",
     "text": [
      "My favorite foods are: \n",
      "['falafel', 'hummus', 'cake', 'pretzels']\n",
      "\n",
      "A poser's favorite foods are:\n",
      "['falafel', 'hummus', 'cake', 'kale']\n"
     ]
    }
   ],
   "source": [
    "my_foods = ['falafel', 'hummus', 'cake']\n",
    "poser_foods = my_foods[:]\n",
    "\n",
    "my_foods.append('pretzels')\n",
    "poser_foods.append('kale')\n",
    "\n",
    "print(\"My favorite foods are: \")\n",
    "print(my_foods)\n",
    "\n",
    "print(\"\\nA poser's favorite foods are:\")\n",
    "print(poser_foods)"
   ]
  },
  {
   "cell_type": "markdown",
   "metadata": {},
   "source": [
    "#### must copy a *slice* of a list to have two separate lists\n",
    "If simply set `my_foods` equal to `poser_foods` we tell Python to associate the new variable with the list already associated with the `my_foods` list, so both variables point to the same list."
   ]
  },
  {
   "cell_type": "code",
   "execution_count": 61,
   "metadata": {},
   "outputs": [
    {
     "name": "stdout",
     "output_type": "stream",
     "text": [
      "My favorite foods are: \n",
      "['falafel', 'hummus', 'cake', 'pretzels', 'kale']\n",
      "\n",
      "A poser's favorite foods are:\n",
      "['falafel', 'hummus', 'cake', 'pretzels', 'kale']\n"
     ]
    }
   ],
   "source": [
    "my_foods = ['falafel', 'hummus', 'cake']\n",
    "# won't work\n",
    "poser_foods = my_foods\n",
    "\n",
    "my_foods.append('pretzels')\n",
    "poser_foods.append('kale')\n",
    "\n",
    "print(\"My favorite foods are: \")\n",
    "print(my_foods)\n",
    "\n",
    "print(\"\\nA poser's favorite foods are:\")\n",
    "print(poser_foods)"
   ]
  },
  {
   "cell_type": "markdown",
   "metadata": {},
   "source": [
    "## Exercises"
   ]
  },
  {
   "cell_type": "code",
   "execution_count": 65,
   "metadata": {},
   "outputs": [
    {
     "name": "stdout",
     "output_type": "stream",
     "text": [
      "The first three items in the list are ['box', 'guitar', 'dildo'].\n",
      "Three items from the middle of the list are ['dildo', 'hat', 'water'].\n",
      "The last three items in the list are ['xbox', 'lamp', 'table'].\n"
     ]
    }
   ],
   "source": [
    "# 4.10\n",
    "items = ['box', 'guitar', 'dildo', 'hat', 'water', 'rower', 'tv', 'xbox', 'lamp', 'table']\n",
    "\n",
    "print(f\"The first three items in the list are {items[:3]}.\")\n",
    "print(f\"Three items from the middle of the list are {items[2:5]}.\")\n",
    "print(f\"The last three items in the list are {items[-3:]}.\")"
   ]
  },
  {
   "cell_type": "markdown",
   "metadata": {},
   "source": [
    "## Tuples"
   ]
  },
  {
   "cell_type": "markdown",
   "metadata": {},
   "source": [
    "### Defining a tuple"
   ]
  },
  {
   "cell_type": "markdown",
   "metadata": {},
   "source": [
    "Lists are mutable (changeable).\n",
    "Tuples are lists of items that are immutable (can't change) and are written with parentheses instead of square brackets."
   ]
  },
  {
   "cell_type": "markdown",
   "metadata": {},
   "source": [
    "#### creating a tuple"
   ]
  },
  {
   "cell_type": "code",
   "execution_count": 66,
   "metadata": {},
   "outputs": [
    {
     "name": "stdout",
     "output_type": "stream",
     "text": [
      "200\n",
      "50\n"
     ]
    }
   ],
   "source": [
    "dimensions = (200, 50)\n",
    "print(dimensions[0])\n",
    "print(dimensions[1])"
   ]
  },
  {
   "cell_type": "markdown",
   "metadata": {},
   "source": [
    "#### trying to change an item in a tuple"
   ]
  },
  {
   "cell_type": "code",
   "execution_count": 67,
   "metadata": {},
   "outputs": [
    {
     "ename": "TypeError",
     "evalue": "'tuple' object does not support item assignment",
     "output_type": "error",
     "traceback": [
      "\u001b[1;31m---------------------------------------------------------------------------\u001b[0m",
      "\u001b[1;31mTypeError\u001b[0m                                 Traceback (most recent call last)",
      "\u001b[1;32m<ipython-input-67-7591fc3d2d4c>\u001b[0m in \u001b[0;36m<module>\u001b[1;34m()\u001b[0m\n\u001b[0;32m      1\u001b[0m \u001b[0mdimensions\u001b[0m \u001b[1;33m=\u001b[0m \u001b[1;33m(\u001b[0m\u001b[1;36m200\u001b[0m\u001b[1;33m,\u001b[0m \u001b[1;36m50\u001b[0m\u001b[1;33m)\u001b[0m\u001b[1;33m\u001b[0m\u001b[0m\n\u001b[1;32m----> 2\u001b[1;33m \u001b[0mdimensions\u001b[0m\u001b[1;33m[\u001b[0m\u001b[1;36m1\u001b[0m\u001b[1;33m]\u001b[0m \u001b[1;33m=\u001b[0m \u001b[1;36m525600\u001b[0m\u001b[1;33m\u001b[0m\u001b[0m\n\u001b[0m",
      "\u001b[1;31mTypeError\u001b[0m: 'tuple' object does not support item assignment"
     ]
    }
   ],
   "source": [
    "dimensions = (200, 50)\n",
    "dimensions[1] = 525600"
   ]
  },
  {
   "cell_type": "markdown",
   "metadata": {},
   "source": [
    "### Looping through all values in a tuple"
   ]
  },
  {
   "cell_type": "code",
   "execution_count": 68,
   "metadata": {},
   "outputs": [
    {
     "name": "stdout",
     "output_type": "stream",
     "text": [
      "200\n",
      "50\n"
     ]
    }
   ],
   "source": [
    "dimensions = (200, 50)\n",
    "for value in dimensions:\n",
    "    print(value)"
   ]
  },
  {
   "cell_type": "markdown",
   "metadata": {},
   "source": [
    "### Writing over a tuple"
   ]
  },
  {
   "cell_type": "code",
   "execution_count": 69,
   "metadata": {},
   "outputs": [
    {
     "name": "stdout",
     "output_type": "stream",
     "text": [
      "Original dimensions:\n",
      "200\n",
      "50\n",
      "\n",
      "Modified dimensions:\n",
      "400\n",
      "100\n"
     ]
    }
   ],
   "source": [
    "dimensions = (200, 50)\n",
    "print(\"Original dimensions:\")\n",
    "for value in dimensions:\n",
    "    print(value)\n",
    "    \n",
    "dimensions = (400, 100)\n",
    "print(\"\\nModified dimensions:\")\n",
    "for value in dimensions:\n",
    "    print(value)"
   ]
  }
 ],
 "metadata": {
  "kernelspec": {
   "display_name": "Python 3",
   "language": "python",
   "name": "python3"
  },
  "language_info": {
   "codemirror_mode": {
    "name": "ipython",
    "version": 3
   },
   "file_extension": ".py",
   "mimetype": "text/x-python",
   "name": "python",
   "nbconvert_exporter": "python",
   "pygments_lexer": "ipython3",
   "version": "3.6.5"
  }
 },
 "nbformat": 4,
 "nbformat_minor": 2
}
