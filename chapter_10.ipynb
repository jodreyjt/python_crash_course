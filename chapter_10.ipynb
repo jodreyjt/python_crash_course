{
 "cells": [
  {
   "cell_type": "markdown",
   "metadata": {},
   "source": [
    "# Chapter 10: Files and Exceptions"
   ]
  },
  {
   "cell_type": "markdown",
   "metadata": {},
   "source": [
    "***"
   ]
  },
  {
   "cell_type": "markdown",
   "metadata": {},
   "source": [
    "## Reading from a file"
   ]
  },
  {
   "cell_type": "markdown",
   "metadata": {},
   "source": [
    "### Reading an entire file"
   ]
  },
  {
   "cell_type": "markdown",
   "metadata": {},
   "source": [
    "* To work with any file you first need to open the file to access it.\n",
    "  * The `open()` function needs one argument: the name of the file to open\n",
    "  * Python looks for this file in the directory that the program currently running is being executed (working directory?).\n",
    "  * The `open()` function returns an object representing the file.\n",
    "* Python assigns the object representing *pi_digits.txt* to `file_object`.\n",
    "* The keyword `with` closes the file once access to it is no longer needed.\n",
    "  * We call `open()` but not `close()`.\n",
    "  * If a bug in your program had prevented `close()` from executing then the file would never close.\n",
    "  * Failing to close a file could corrupt or lose the file or cause inability to access.\n",
    "* Use the `read()` method to read the entire contents of the file and store it as one long string in `contents`."
   ]
  },
  {
   "cell_type": "code",
   "execution_count": 2,
   "metadata": {},
   "outputs": [
    {
     "name": "stdout",
     "output_type": "stream",
     "text": [
      "3.1415926535 \n",
      "  8979323846 \n",
      "  2643383279\n",
      "\n"
     ]
    }
   ],
   "source": [
    "with open('pi_digits.txt') as file_object:\n",
    "    contents = file_object.read()\n",
    "print(contents)"
   ]
  },
  {
   "cell_type": "markdown",
   "metadata": {},
   "source": [
    "Use `rstrip()` to remove the extra blank line."
   ]
  },
  {
   "cell_type": "code",
   "execution_count": 4,
   "metadata": {},
   "outputs": [
    {
     "name": "stdout",
     "output_type": "stream",
     "text": [
      "3.1415926535 \n",
      "  8979323846 \n",
      "  2643383279\n"
     ]
    }
   ],
   "source": [
    "with open('pi_digits.txt') as file_object:\n",
    "    contents = file_object.read()\n",
    "print(contents.rstrip())"
   ]
  },
  {
   "cell_type": "markdown",
   "metadata": {},
   "source": [
    "### File paths"
   ]
  },
  {
   "cell_type": "markdown",
   "metadata": {},
   "source": [
    "Can use relative and absolute paths in file paths."
   ]
  },
  {
   "cell_type": "markdown",
   "metadata": {},
   "source": [
    "### Reading line by line"
   ]
  },
  {
   "cell_type": "code",
   "execution_count": 6,
   "metadata": {},
   "outputs": [
    {
     "name": "stdout",
     "output_type": "stream",
     "text": [
      "3.1415926535\n",
      "  8979323846\n",
      "  2643383279\n"
     ]
    }
   ],
   "source": [
    "# use a for loop to read one line at a time\n",
    "filename = 'pi_digits.txt'\n",
    "\n",
    "with open(filename) as file_object:\n",
    "    for line in file_object:\n",
    "        print(line.rstrip())"
   ]
  },
  {
   "cell_type": "markdown",
   "metadata": {},
   "source": [
    "### Making a list of lines from a file\n",
    "The file object returned by open() is only available inside the `with` block that contains it.  If you want to retain access to a file's contents outside the with block, you can store the file's lines in a list inside the block using the `readlines()` method and then work with that list."
   ]
  },
  {
   "cell_type": "code",
   "execution_count": 7,
   "metadata": {},
   "outputs": [
    {
     "name": "stdout",
     "output_type": "stream",
     "text": [
      "3.1415926535\n",
      "  8979323846\n",
      "  2643383279\n"
     ]
    }
   ],
   "source": [
    "filename = 'pi_digits.txt'\n",
    "\n",
    "with open(filename) as file_object:\n",
    "    lines = file_object.readlines()\n",
    "\n",
    "for line in lines:\n",
    "    print(line.rstrip())"
   ]
  },
  {
   "cell_type": "markdown",
   "metadata": {},
   "source": [
    "### Working with a file's contents"
   ]
  },
  {
   "cell_type": "code",
   "execution_count": 12,
   "metadata": {},
   "outputs": [
    {
     "name": "stdout",
     "output_type": "stream",
     "text": [
      "3.141592653589793238462643383279\n",
      "32\n"
     ]
    }
   ],
   "source": [
    "# filepath\n",
    "filename = 'pi_digits.txt'\n",
    "\n",
    "# read in file\n",
    "with open(filename) as file_object:\n",
    "    lines = file_object.readlines()\n",
    "\n",
    "# initialize empty string\n",
    "pi_string = ''\n",
    "\n",
    "# build a single string of pi digits\n",
    "for line in lines:\n",
    "    pi_string += line.strip()\n",
    "    \n",
    "print(pi_string)\n",
    "print(len(pi_string))"
   ]
  },
  {
   "cell_type": "markdown",
   "metadata": {},
   "source": [
    "### Large files: one million digits"
   ]
  },
  {
   "cell_type": "code",
   "execution_count": 14,
   "metadata": {},
   "outputs": [
    {
     "name": "stdout",
     "output_type": "stream",
     "text": [
      "3.14159265358979323846264338327950288419716939937510...\n",
      "1000002\n"
     ]
    }
   ],
   "source": [
    "filename = 'pi_million_digits.txt'\n",
    "\n",
    "with open(filename) as file_object:\n",
    "    lines = file_object.readlines()\n",
    "    \n",
    "pi_string = ''\n",
    "for line in lines:\n",
    "    pi_string += line.strip()\n",
    "\n",
    "print(f\"{pi_string[:52]}...\")\n",
    "print(len(pi_string))"
   ]
  },
  {
   "cell_type": "markdown",
   "metadata": {},
   "source": [
    "### Is my birthday contained in pi?"
   ]
  },
  {
   "cell_type": "code",
   "execution_count": 18,
   "metadata": {},
   "outputs": [
    {
     "name": "stdout",
     "output_type": "stream",
     "text": [
      "Enter your birthday, in the form mmddyy:  082084\n",
      "Your birthday appears in the first million digits of pi!\n"
     ]
    }
   ],
   "source": [
    "filename = 'pi_million_digits.txt'\n",
    "\n",
    "with open(filename) as file_object:\n",
    "    lines = file_object.readlines()\n",
    "    \n",
    "pi_string = ''\n",
    "for line in lines:\n",
    "    pi_string += line.strip()\n",
    "\n",
    "birthday = input(\"Enter your birthday, in the form mmddyy:  \")\n",
    "if birthday in pi_string:\n",
    "    print(\"Your birthday appears in the first million digits of pi!\")\n",
    "else:\n",
    "    print(\"Sorry bro.\")"
   ]
  },
  {
   "cell_type": "markdown",
   "metadata": {},
   "source": [
    "## Exercises"
   ]
  },
  {
   "cell_type": "code",
   "execution_count": 25,
   "metadata": {},
   "outputs": [
    {
     "name": "stdout",
     "output_type": "stream",
     "text": [
      "In Python you can find your birthday in strings.\n",
      "\n",
      "In Python you can write classes to summarize real world situations.\n",
      "\n",
      "In Python you can open files.\n",
      "\n",
      "In Python you can create lists of people you hate.\n",
      "['In Python you can find your birthday in strings.\\n', 'In Python you can write classes to summarize real world situations.\\n', 'In Python you can open files.\\n', 'In Python you can create lists of people you hate.']\n",
      "In Python you can find your birthday in strings.\n",
      "In Python you can write classes to summarize real world situations.\n",
      "In Python you can open files.\n",
      "In Python you can create lists of people you hate.\n"
     ]
    }
   ],
   "source": [
    "# 10.1\n",
    "filename = 'learning_python.txt'\n",
    "\n",
    "with open(filename) as file_object:\n",
    "    for line in file_object:\n",
    "        print(line)\n",
    "\n",
    "with open(filename) as file_object:\n",
    "    lines = file_object.readlines()\n",
    "\n",
    "print(lines)\n",
    "\n",
    "for line in lines:\n",
    "    print(line.strip())"
   ]
  },
  {
   "cell_type": "code",
   "execution_count": 26,
   "metadata": {},
   "outputs": [],
   "source": [
    "# 10.2"
   ]
  },
  {
   "cell_type": "code",
   "execution_count": 30,
   "metadata": {},
   "outputs": [
    {
     "name": "stdout",
     "output_type": "stream",
     "text": [
      "In C you can find your birthday in strings.\n",
      "In C you can write classes to summarize real world situations.\n",
      "In C you can open files.\n",
      "In C you can create lists of people you hate.\n"
     ]
    }
   ],
   "source": [
    "filename = 'learning_python.txt'\n",
    "\n",
    "with open(filename) as file_object:\n",
    "    for line in file_object:\n",
    "        line = line.replace('Python', 'C')\n",
    "        print(line.strip())"
   ]
  },
  {
   "cell_type": "markdown",
   "metadata": {},
   "source": [
    "## Writing to a file"
   ]
  },
  {
   "cell_type": "markdown",
   "metadata": {},
   "source": [
    "### Writing to an empty file"
   ]
  },
  {
   "cell_type": "code",
   "execution_count": 32,
   "metadata": {},
   "outputs": [],
   "source": [
    "filename = 'programming.txt'\n",
    "\n",
    "# 'w' for open in write mode\n",
    "# can also in 'r' read mode, 'w' write mode, 'a' append mode\n",
    "# 'w' deletes already existing file and then returns the file object\n",
    "with open(filename, 'w') as file_object:\n",
    "    file_object.write(\"I love programming.\")"
   ]
  },
  {
   "cell_type": "markdown",
   "metadata": {},
   "source": [
    "### Writing multiple lines"
   ]
  },
  {
   "cell_type": "code",
   "execution_count": 38,
   "metadata": {},
   "outputs": [],
   "source": [
    "filename = 'programming.txt'\n",
    "\n",
    "with open(filename, 'w') as file_object:\n",
    "    file_object.write(\"I love programming.\\n\")\n",
    "    file_object.write(\"I love creating new files.\\n\")"
   ]
  },
  {
   "cell_type": "markdown",
   "metadata": {},
   "source": [
    "### Appending to a file"
   ]
  },
  {
   "cell_type": "code",
   "execution_count": 39,
   "metadata": {},
   "outputs": [],
   "source": [
    "filename = 'programming.txt'\n",
    "\n",
    "# 'a' for append mode\n",
    "with open(filename, 'a') as file_object:\n",
    "    file_object.write(\"I also love finding meaning in data.\\n\")\n",
    "    file_object.write(\"I love creating files.\\n\")"
   ]
  },
  {
   "cell_type": "markdown",
   "metadata": {},
   "source": [
    "## Exercises"
   ]
  },
  {
   "cell_type": "code",
   "execution_count": 41,
   "metadata": {},
   "outputs": [
    {
     "name": "stdout",
     "output_type": "stream",
     "text": [
      "What is your name?  Justin Smith\n"
     ]
    }
   ],
   "source": [
    "# 10.3\n",
    "filename_to_write = 'guest.txt'\n",
    "\n",
    "user_name = input(\"What is your name?  \")\n",
    "\n",
    "with open(filename_to_write, 'w') as file_object:\n",
    "    file_object.write(user_name.title())"
   ]
  },
  {
   "cell_type": "code",
   "execution_count": 43,
   "metadata": {},
   "outputs": [
    {
     "name": "stdout",
     "output_type": "stream",
     "text": [
      "(type 'q' to quit at any time)\n",
      "What is your name?  q\n"
     ]
    }
   ],
   "source": [
    "# 10.4\n",
    "filename_to_write = 'guest_book.txt'\n",
    "\n",
    "while True:\n",
    "    print(\"(type 'q' to quit at any time)\")\n",
    "    guest_name = input(\"What is your name?  \")\n",
    "    if guest_name == 'q':\n",
    "        break\n",
    "    with open(filename_to_write, 'a') as file_object:\n",
    "        file_object.write(f\"{guest_name}\\n\")"
   ]
  },
  {
   "cell_type": "markdown",
   "metadata": {},
   "source": [
    "## Exceptions"
   ]
  },
  {
   "cell_type": "markdown",
   "metadata": {},
   "source": [
    "Exceptions are handled with try-except blocks.\n",
    "* Whenever an error occurs that makes Python unsure what to do next, it creates an exception object.\n",
    "* If you write code that handles the exception, the program will continue running.\n",
    "* A try-except block asks Python to do seomthing, but also tells Python what to do if an exception is raised.\n",
    "* Programs will continue running even if things start to go wrong."
   ]
  },
  {
   "cell_type": "markdown",
   "metadata": {},
   "source": [
    "### Handling the ZeroDivisionError exception"
   ]
  },
  {
   "cell_type": "code",
   "execution_count": 44,
   "metadata": {},
   "outputs": [
    {
     "ename": "ZeroDivisionError",
     "evalue": "division by zero",
     "output_type": "error",
     "traceback": [
      "\u001b[1;31m---------------------------------------------------------------------------\u001b[0m",
      "\u001b[1;31mZeroDivisionError\u001b[0m                         Traceback (most recent call last)",
      "\u001b[1;32m<ipython-input-44-2915a9fa19d9>\u001b[0m in \u001b[0;36m<module>\u001b[1;34m\u001b[0m\n\u001b[0;32m      1\u001b[0m \u001b[1;31m# get a traceback\u001b[0m\u001b[1;33m\u001b[0m\u001b[1;33m\u001b[0m\u001b[1;33m\u001b[0m\u001b[0m\n\u001b[1;32m----> 2\u001b[1;33m \u001b[0mprint\u001b[0m\u001b[1;33m(\u001b[0m\u001b[1;36m5\u001b[0m\u001b[1;33m/\u001b[0m\u001b[1;36m0\u001b[0m\u001b[1;33m)\u001b[0m\u001b[1;33m\u001b[0m\u001b[1;33m\u001b[0m\u001b[0m\n\u001b[0m",
      "\u001b[1;31mZeroDivisionError\u001b[0m: division by zero"
     ]
    }
   ],
   "source": [
    "# get a traceback\n",
    "print(5/0)"
   ]
  },
  {
   "cell_type": "markdown",
   "metadata": {},
   "source": [
    "### Using try-except blocks"
   ]
  },
  {
   "cell_type": "code",
   "execution_count": 45,
   "metadata": {},
   "outputs": [
    {
     "name": "stdout",
     "output_type": "stream",
     "text": [
      "You can't divide by zero\n"
     ]
    }
   ],
   "source": [
    "try:\n",
    "    print(5/0)\n",
    "except ZeroDivisionError:\n",
    "    print(\"You can't divide by zero\")"
   ]
  },
  {
   "cell_type": "markdown",
   "metadata": {},
   "source": [
    "### The else block\n",
    "Wrap lines that might produce errors in a try-except block."
   ]
  },
  {
   "cell_type": "code",
   "execution_count": 50,
   "metadata": {},
   "outputs": [
    {
     "name": "stdout",
     "output_type": "stream",
     "text": [
      "Give me two nubmers and I'll divide them.\n",
      "Enter 'q' to quit.\n",
      "\n",
      "First number: 0\n",
      "\n",
      "Second number: 3\n",
      "0.0\n",
      "\n",
      "First number: 9\n",
      "\n",
      "Second number: q\n"
     ]
    }
   ],
   "source": [
    "print(\"Give me two nubmers and I'll divide them.\")\n",
    "print(\"Enter 'q' to quit.\")\n",
    "\n",
    "while True:\n",
    "    first_number = input(\"\\nFirst number: \")\n",
    "    if first_number == 'q':\n",
    "        break\n",
    "    second_number = input(\"\\nSecond number: \")\n",
    "    if second_number == 'q':\n",
    "        break\n",
    "        \n",
    "    # start of try-except block\n",
    "    try:\n",
    "        answer = float(first_number) / float(second_number)\n",
    "    except ZeroDivisionError:\n",
    "        print(\"You can't divide by zero.\")    \n",
    "    # end of try-except block\n",
    "    \n",
    "    else:\n",
    "        print(answer)"
   ]
  },
  {
   "cell_type": "markdown",
   "metadata": {},
   "source": [
    "### Handling the FileNotFoundError exception\n",
    "Common issue: handling missing files"
   ]
  },
  {
   "cell_type": "code",
   "execution_count": 53,
   "metadata": {},
   "outputs": [
    {
     "name": "stdout",
     "output_type": "stream",
     "text": [
      "Sorry, the file alice.txt does not exist.\n"
     ]
    }
   ],
   "source": [
    "# will throw error\n",
    "filename = 'alice.txt'\n",
    "\n",
    "try:\n",
    "    with open(filename) as f:\n",
    "        contents = f.read()\n",
    "except FileNotFoundError:\n",
    "    print(f\"Sorry, the file {filename} does not exist.\")"
   ]
  },
  {
   "cell_type": "markdown",
   "metadata": {},
   "source": [
    "### Analyzing text"
   ]
  },
  {
   "cell_type": "code",
   "execution_count": 55,
   "metadata": {},
   "outputs": [
    {
     "data": {
      "text/plain": [
       "['Alice', 'in', 'Wonderland']"
      ]
     },
     "execution_count": 55,
     "metadata": {},
     "output_type": "execute_result"
    }
   ],
   "source": [
    "# .split() method to separate a string into parts wherever it finds a space\n",
    "# stores all the parts of the string in a list\n",
    "title = 'Alice in Wonderland'\n",
    "title.split()"
   ]
  },
  {
   "cell_type": "markdown",
   "metadata": {},
   "source": [
    "Count words in the book *Alice in Wonderland*."
   ]
  },
  {
   "cell_type": "code",
   "execution_count": 57,
   "metadata": {},
   "outputs": [
    {
     "name": "stdout",
     "output_type": "stream",
     "text": [
      "The file alice.txt has about 29465 words.\n"
     ]
    }
   ],
   "source": [
    "# filepath\n",
    "filename = 'alice.txt'\n",
    "\n",
    "# try-except block to read file\n",
    "try:\n",
    "    with open(filename, encoding = 'utf-8') as f:\n",
    "        contents = f.read()\n",
    "except FileNotFoundError:\n",
    "    print(f\"Sorry, the file {filename} does not exist.\")\n",
    "else:\n",
    "    # Count the approximate number of words in the file.\n",
    "    words = contents.split()\n",
    "    num_words = len(words)\n",
    "    print(f\"The file {filename} has about {num_words} words.\")"
   ]
  },
  {
   "cell_type": "markdown",
   "metadata": {},
   "source": [
    "### Working with multiple files"
   ]
  },
  {
   "cell_type": "markdown",
   "metadata": {},
   "source": [
    "Create function to count words in a filename."
   ]
  },
  {
   "cell_type": "code",
   "execution_count": 59,
   "metadata": {},
   "outputs": [],
   "source": [
    "def count_words(filename):\n",
    "    \"\"\"Count the approximate number of words in a file.\"\"\"\n",
    "    try:\n",
    "        with open(filename, encoding = 'utf-8') as f:\n",
    "            contents = f.read()\n",
    "    except FileNotFoundError:\n",
    "        print(f\"Sorry, the file {filename} does not exist.\")\n",
    "    else:\n",
    "        # Count the approximate number of words in the file.\n",
    "        words = contents.split()\n",
    "        num_words = len(words)\n",
    "        print(f\"The file {filename} has about {num_words} words.\")"
   ]
  },
  {
   "cell_type": "code",
   "execution_count": 60,
   "metadata": {},
   "outputs": [
    {
     "name": "stdout",
     "output_type": "stream",
     "text": [
      "The file alice.txt has about 29465 words.\n"
     ]
    }
   ],
   "source": [
    "count_words('alice.txt')"
   ]
  },
  {
   "cell_type": "code",
   "execution_count": 61,
   "metadata": {},
   "outputs": [
    {
     "name": "stdout",
     "output_type": "stream",
     "text": [
      "The file alice.txt has about 29465 words.\n",
      "The file siddhartha.txt has about 42172 words.\n",
      "The file moby_dick.txt has about 215830 words.\n",
      "Sorry, the file little_women.txt does not exist.\n",
      "Sorry, the file trump_is_stable_genius.txt does not exist.\n"
     ]
    }
   ],
   "source": [
    "books = ['alice.txt', 'siddhartha.txt', 'moby_dick.txt', 'little_women.txt', 'trump_is_stable_genius.txt']\n",
    "for book in books:\n",
    "    count_words(book)"
   ]
  },
  {
   "cell_type": "markdown",
   "metadata": {},
   "source": [
    "### Failing silently"
   ]
  },
  {
   "cell_type": "markdown",
   "metadata": {},
   "source": [
    "Use a `pass` statement to fail silently in a try-except block."
   ]
  },
  {
   "cell_type": "code",
   "execution_count": 62,
   "metadata": {},
   "outputs": [
    {
     "name": "stdout",
     "output_type": "stream",
     "text": [
      "The file alice.txt has about 29465 words.\n",
      "The file siddhartha.txt has about 42172 words.\n",
      "The file moby_dick.txt has about 215830 words.\n"
     ]
    }
   ],
   "source": [
    "def count_words(filename):\n",
    "    \"\"\"Count the approximate number of words in a file.\"\"\"\n",
    "    try:\n",
    "        with open(filename, encoding = 'utf-8') as f:\n",
    "            contents = f.read()\n",
    "    except FileNotFoundError:\n",
    "        pass\n",
    "    else:\n",
    "        # Count the approximate number of words in the file.\n",
    "        words = contents.split()\n",
    "        num_words = len(words)\n",
    "        print(f\"The file {filename} has about {num_words} words.\")\n",
    "\n",
    "books = ['alice.txt', 'siddhartha.txt', 'moby_dick.txt', 'little_women.txt', 'trump_is_stable_genius.txt']\n",
    "for book in books:\n",
    "    count_words(book)"
   ]
  },
  {
   "cell_type": "markdown",
   "metadata": {},
   "source": [
    "## Exercises"
   ]
  },
  {
   "cell_type": "code",
   "execution_count": 69,
   "metadata": {},
   "outputs": [
    {
     "name": "stdout",
     "output_type": "stream",
     "text": [
      "Give me two numbers and I'll add them together.\n",
      "(type 'q' to quit)\n",
      "\n",
      "First number: 8\n",
      "Second number: fourteen\n",
      "Please give two NUMBERS instead of text or some other input type.\n",
      "\n",
      "First number: q\n"
     ]
    }
   ],
   "source": [
    "# 10.6 and 10.7\n",
    "print(\"Give me two numbers and I'll add them together.\")\n",
    "print(\"(type 'q' to quit)\")\n",
    "\n",
    "while True:\n",
    "    first_number = input(\"\\nFirst number: \")\n",
    "    if first_number == 'q':\n",
    "        break\n",
    "    second_number = input(\"Second number: \")\n",
    "    if second_number == 'q':\n",
    "        break\n",
    "\n",
    "    try:\n",
    "        answer = float(first_number) + float(second_number)\n",
    "    except ValueError:\n",
    "        print(\"Please give two NUMBERS instead of text or some other input type.\")\n",
    "    else:\n",
    "        print(f\"The sum of {first_number} and {second_number} is {answer}.\")"
   ]
  },
  {
   "cell_type": "code",
   "execution_count": 75,
   "metadata": {},
   "outputs": [
    {
     "name": "stdout",
     "output_type": "stream",
     "text": [
      "susan\n",
      "roxxxy\n",
      "andrews\n",
      "\n",
      "\n",
      "The file iguanas.txt cannot be found.\n",
      "\n",
      "jupiter\n",
      "saturn\n",
      "venus\n",
      "\n",
      "\n",
      "The file parrots.txt cannot be found.\n",
      "\n"
     ]
    }
   ],
   "source": [
    "# 10.8\n",
    "def read_pet_names(filename):\n",
    "    try:\n",
    "        with open(filename) as f:\n",
    "            pet_names = f.read()\n",
    "    except FileNotFoundError:\n",
    "        print(f\"The file {filename} cannot be found.\\n\")\n",
    "    else:\n",
    "        print(pet_names)\n",
    "        print(\"\\n\")\n",
    "\n",
    "pet_files = ['cats.txt', 'iguanas.txt', 'dogs.txt', 'parrots.txt']\n",
    "for pet_file in pet_files:\n",
    "    read_pet_names(pet_file)"
   ]
  },
  {
   "cell_type": "code",
   "execution_count": 79,
   "metadata": {},
   "outputs": [
    {
     "name": "stdout",
     "output_type": "stream",
     "text": [
      "susan\n",
      "roxxxy\n",
      "andrews\n",
      "jupiter\n",
      "saturn\n",
      "venus\n"
     ]
    }
   ],
   "source": [
    "# 10.9\n",
    "def read_pet_names(filename):\n",
    "    try:\n",
    "        with open(filename) as f:\n",
    "            pet_names = f.read()\n",
    "            print(pet_names)\n",
    "    except FileNotFoundError:\n",
    "        # print(f\"The file {filename} cannot be found.\\n\")\n",
    "        pass\n",
    "\n",
    "pet_files = ['cats.txt', 'iguanas.txt', 'dogs.txt', 'parrots.txt']\n",
    "for pet_file in pet_files:\n",
    "    read_pet_names(pet_file)"
   ]
  },
  {
   "cell_type": "code",
   "execution_count": 89,
   "metadata": {},
   "outputs": [
    {
     "name": "stdout",
     "output_type": "stream",
     "text": [
      "The file alice.txt uses the word the 2505 times.\n"
     ]
    }
   ],
   "source": [
    "# 10.10\n",
    "\n",
    "def count_specific_word(filename, word):\n",
    "    try:\n",
    "        with open(filename, encoding = 'utf-8') as f:\n",
    "            contents = f.read()\n",
    "            contents = contents\n",
    "    except FileNotFoundError:\n",
    "        pass\n",
    "    else:\n",
    "        num_word_count = contents.lower().count(word)\n",
    "        print(f\"The file {filename} uses the word {word} {num_word_count} times.\")\n",
    "\n",
    "count_specific_word('alice.txt', word = 'the')"
   ]
  },
  {
   "cell_type": "markdown",
   "metadata": {},
   "source": [
    "## Storing data"
   ]
  },
  {
   "cell_type": "markdown",
   "metadata": {},
   "source": [
    "### Using `json.dump()` to store sets of numbers in a JSON format"
   ]
  },
  {
   "cell_type": "code",
   "execution_count": 92,
   "metadata": {},
   "outputs": [],
   "source": [
    "import json\n",
    "\n",
    "numbers = [8, 6, 7, 5, 3, 0, 9]\n",
    "\n",
    "filename = 'numbers.json'\n",
    "with open(filename, 'w') as f:\n",
    "    json.dump(numbers, f)"
   ]
  },
  {
   "cell_type": "markdown",
   "metadata": {},
   "source": [
    "### Using `json.load()` to read JSON files"
   ]
  },
  {
   "cell_type": "code",
   "execution_count": 93,
   "metadata": {},
   "outputs": [
    {
     "name": "stdout",
     "output_type": "stream",
     "text": [
      "[8, 6, 7, 5, 3, 0, 9]\n"
     ]
    }
   ],
   "source": [
    "import json\n",
    "\n",
    "filename = 'numbers.json'\n",
    "with open(filename) as f:\n",
    "    numbers = json.load(f)\n",
    "\n",
    "print(numbers)"
   ]
  },
  {
   "cell_type": "markdown",
   "metadata": {},
   "source": [
    "### Saving and reading user-generated data"
   ]
  },
  {
   "cell_type": "code",
   "execution_count": 94,
   "metadata": {},
   "outputs": [
    {
     "name": "stdout",
     "output_type": "stream",
     "text": [
      "What is your name? JBomb\n",
      "See you soon, JBomb.\n"
     ]
    }
   ],
   "source": [
    "import json\n",
    "\n",
    "username = input(\"What is your name? \")\n",
    "\n",
    "filename = 'username.json'\n",
    "with open(filename, 'w') as f:\n",
    "    json.dump(username, f)\n",
    "    print(f\"See you soon, {username}.\")"
   ]
  },
  {
   "cell_type": "code",
   "execution_count": null,
   "metadata": {},
   "outputs": [],
   "source": []
  }
 ],
 "metadata": {
  "kernelspec": {
   "display_name": "Python 3",
   "language": "python",
   "name": "python3"
  },
  "language_info": {
   "codemirror_mode": {
    "name": "ipython",
    "version": 3
   },
   "file_extension": ".py",
   "mimetype": "text/x-python",
   "name": "python",
   "nbconvert_exporter": "python",
   "pygments_lexer": "ipython3",
   "version": "3.8.5"
  }
 },
 "nbformat": 4,
 "nbformat_minor": 4
}
